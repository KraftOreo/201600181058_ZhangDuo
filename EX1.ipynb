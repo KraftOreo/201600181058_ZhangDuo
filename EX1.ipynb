{
 "cells": [
  {
   "cell_type": "markdown",
   "metadata": {},
   "source": [
    "\n",
    "# Homework 0\n"
   ]
  },
  {
   "cell_type": "markdown",
   "metadata": {},
   "source": [
    "## Vecitorization"
   ]
  },
  {
   "cell_type": "markdown",
   "metadata": {},
   "source": [
    "### sum products"
   ]
  },
  {
   "cell_type": "code",
   "execution_count": 1,
   "metadata": {
    "ExecuteTime": {
     "end_time": "2019-03-13T13:32:07.539514Z",
     "start_time": "2019-03-13T13:31:57.705812Z"
    }
   },
   "outputs": [
    {
     "name": "stdout",
     "output_type": "stream",
     "text": [
      "求向量a中每个元素与向量b中对应元素乘积之和\n",
      "输入;\n",
      "[1 2 3 4] [1 2 3 4]\n",
      "输出;\n",
      "30.0\n"
     ]
    }
   ],
   "source": [
    "import numpy\n",
    "\n",
    "\n",
    "def vectorize_sumproducts():\n",
    "    \"\"\"\n",
    "     Takes two 1-dimensional arrays and sums the products of all the pairs.\n",
    "    :return:\n",
    "    \"\"\"\n",
    "    print(\"求向量a中每个元素与向量b中对应元素乘积之和\")\n",
    "    print('输入;')\n",
    "    a, b = input().split('] [')\n",
    "    a = list(map(float, a.strip('[').split()))\n",
    "    b = list(map(float, b.strip('] ').split()))\n",
    "    print(\"输出;\")\n",
    "    return numpy.sum(numpy.multiply(a, b))\n",
    "\n",
    "print(vectorize_sumproducts())\n"
   ]
  },
  {
   "cell_type": "markdown",
   "metadata": {},
   "source": [
    "### Vectorize_Relu"
   ]
  },
  {
   "cell_type": "code",
   "execution_count": 2,
   "metadata": {
    "ExecuteTime": {
     "end_time": "2019-03-13T13:34:21.145218Z",
     "start_time": "2019-03-13T13:34:21.124274Z"
    }
   },
   "outputs": [
    {
     "name": "stdout",
     "output_type": "stream",
     "text": [
      "[[0.12014268 0.04807053 0.11371428 1.04689747 0.73259511]\n",
      " [0.         0.17910703 0.27541831 0.         0.        ]\n",
      " [0.         0.         0.         0.         0.        ]\n",
      " [0.         0.         0.         1.73085849 0.        ]\n",
      " [0.         0.         0.14753589 1.32250646 0.15671883]]\n",
      "[[0.12014268 0.04807053 0.11371428 1.04689747 0.73259511]\n",
      " [0.         0.17910703 0.27541831 0.         0.        ]\n",
      " [0.         0.         0.         0.         0.        ]\n",
      " [0.         0.         0.         1.73085849 0.        ]\n",
      " [0.         0.         0.14753589 1.32250646 0.15671883]]\n"
     ]
    }
   ],
   "source": [
    "def vectorize_Relu():\n",
    "    \"\"\"\n",
    "    Takes one 2-dimensional array and apply the relu function on all the values of the array.\n",
    "    :return:\n",
    "    \"\"\"\n",
    "    a = numpy.random.randn(5, 5)\n",
    "    # Here are two ways to do Relu\n",
    "    loc = numpy.where(a > 0, a, 0)\n",
    "    loc1 = numpy.maximum(a, 0)\n",
    "    print(loc)\n",
    "    print(loc1)\n",
    "\n",
    "    \n",
    "vectorize_Relu()"
   ]
  },
  {
   "cell_type": "markdown",
   "metadata": {},
   "source": [
    "### vectorize_PrimeRelu"
   ]
  },
  {
   "cell_type": "code",
   "execution_count": 3,
   "metadata": {
    "ExecuteTime": {
     "end_time": "2019-03-13T13:37:10.342746Z",
     "start_time": "2019-03-13T13:37:10.327791Z"
    }
   },
   "outputs": [
    {
     "name": "stdout",
     "output_type": "stream",
     "text": [
      "[[1 1 1 0 0]\n",
      " [0 1 1 1 1]\n",
      " [1 1 1 1 0]\n",
      " [0 0 0 1 0]\n",
      " [1 0 0 1 1]]\n"
     ]
    }
   ],
   "source": [
    "def vectorize_PrimeRelu():\n",
    "    \"\"\"\n",
    "    Takes one 2-dimensional array and apply the derivative of relu function on all the values of the array.\n",
    "    :return:\n",
    "    \"\"\"\n",
    "    a = numpy.random.randn(5, 5)\n",
    "    a = numpy.where(a < 0, 0, 1)\n",
    "    print(a)\n",
    "\n",
    "    \n",
    "vectorize_PrimeRelu()"
   ]
  },
  {
   "cell_type": "markdown",
   "metadata": {},
   "source": [
    "## Variable Length"
   ]
  },
  {
   "cell_type": "markdown",
   "metadata": {},
   "source": [
    "### Slice_fixed_point"
   ]
  },
  {
   "cell_type": "code",
   "execution_count": 5,
   "metadata": {
    "ExecuteTime": {
     "end_time": "2019-03-13T13:40:59.061101Z",
     "start_time": "2019-03-13T13:40:59.050136Z"
    }
   },
   "outputs": [
    {
     "name": "stdout",
     "output_type": "stream",
     "text": [
      "[['u0l1', 'u0l2'], ['u1l2', 'u1l3'], ['u2l1', 'u2l2'], ['u3l1', 'u3l2']]\n"
     ]
    }
   ],
   "source": [
    "def Slice_fixed_point(data, m, n):\n",
    "    \"\"\"\n",
    "    Takes one 3-dimensional array with the starting position and the length of the output instances.\n",
    "    Your task is to slice the instances from the same starting position for the given length.\n",
    "    :return:\n",
    "    \"\"\"\n",
    "    result = []\n",
    "    for i in data:\n",
    "        temp = []\n",
    "        for j in range(m, m + n):\n",
    "            if j < len(i):\n",
    "                temp.append(i[j])\n",
    "            else:\n",
    "                temp.append('')\n",
    "        result.append(temp)\n",
    "    return result\n",
    "\n",
    "data = [\n",
    "        ['u0l0', 'u0l1', 'u0l2', 'u0l3', 'u0l4'],\n",
    "        ['u1l1', 'u1l2', 'u1l3'],\n",
    "        ['u2l0', 'u2l1', 'u2l2', 'u2l3', 'u2l4', 'u2l5'],\n",
    "        ['u3l0', 'u3l1', 'u3l2', 'u3l3', 'u3l4']\n",
    "    ]\n",
    "result = Slice_fixed_point(data, 1, 2)\n",
    "print(result)"
   ]
  },
  {
   "cell_type": "markdown",
   "metadata": {},
   "source": [
    "### slice_last_point"
   ]
  },
  {
   "cell_type": "code",
   "execution_count": 6,
   "metadata": {
    "ExecuteTime": {
     "end_time": "2019-03-13T13:44:25.826166Z",
     "start_time": "2019-03-13T13:44:25.817193Z"
    }
   },
   "outputs": [
    {
     "name": "stdout",
     "output_type": "stream",
     "text": [
      "[['u0l0', 'u0l1', 'u0l2', 'u0l3', 'u0l4'], ['u1l1', 'u1l2', 'u1l3'], ['u2l0', 'u2l1', 'u2l2', 'u2l3', 'u2l4', 'u2l5'], ['u3l0', 'u3l1', 'u3l2', 'u3l3', 'u3l4']]\n"
     ]
    }
   ],
   "source": [
    "def slice_last_point(data, lastPos=0):\n",
    "    \"\"\"\n",
    "     Takes one 3-dimensional array with the length of the output instances.\n",
    "     Your task is to keeping only the l last points for each instances in the dataset.\n",
    "    :return:\n",
    "    \"\"\"\n",
    "    result = []\n",
    "    for i in data:\n",
    "        result.append(i[-1 - lastPos:-1])\n",
    "    return result\n",
    "    \n",
    "data = [\n",
    "        ['u0l0', 'u0l1', 'u0l2', 'u0l3', 'u0l4'],\n",
    "        ['u1l1', 'u1l2', 'u1l3'],\n",
    "        ['u2l0', 'u2l1', 'u2l2', 'u2l3', 'u2l4', 'u2l5'],\n",
    "        ['u3l0', 'u3l1', 'u3l2', 'u3l3', 'u3l4']\n",
    "    ]\n",
    "result = slice_last_point(data)\n",
    "print(data)"
   ]
  },
  {
   "cell_type": "markdown",
   "metadata": {},
   "source": [
    "### slice_random_point"
   ]
  },
  {
   "cell_type": "code",
   "execution_count": 11,
   "metadata": {
    "ExecuteTime": {
     "end_time": "2019-03-13T13:55:08.090608Z",
     "start_time": "2019-03-13T13:55:08.080632Z"
    }
   },
   "outputs": [
    {
     "name": "stdout",
     "output_type": "stream",
     "text": [
      "[4 2]\n",
      "[0 0]\n",
      "[4 0]\n",
      "[1 2]\n",
      "[['u0l4', 'u0l2'], ['u1l1', 'u1l1'], ['u2l4', 'u2l0'], ['u3l1', 'u3l2']]\n"
     ]
    }
   ],
   "source": [
    "def slice_random_point(data, length):\n",
    "    \"\"\"\n",
    "     Takes one 3-dimensional  array  with  the  length  of the output instances.\n",
    "     Your task is to slice the instances from a random point in each of the utterances with the given length.\n",
    "     Please use function numpy.random.randint for generating the starting position.\n",
    "    :return:\n",
    "    \"\"\"\n",
    "    result=[]\n",
    "    for i in data:\n",
    "        loc = numpy.random.randint(0,len(i),length)\n",
    "        temp=[]\n",
    "        for j in loc:\n",
    "            temp.append(i[j])\n",
    "        result.append(temp)\n",
    "\n",
    "    return result\n",
    "\n",
    "data = [\n",
    "        ['u0l0', 'u0l1', 'u0l2', 'u0l3', 'u0l4'],\n",
    "        ['u1l1', 'u1l2', 'u1l3'],\n",
    "        ['u2l0', 'u2l1', 'u2l2', 'u2l3', 'u2l4', 'u2l5'],\n",
    "        ['u3l0', 'u3l1', 'u3l2', 'u3l3', 'u3l4']\n",
    "    ]\n",
    "result = slice_random_point(data, 2)\n",
    "print(result)"
   ]
  },
  {
   "cell_type": "markdown",
   "metadata": {},
   "source": [
    "### pad_pattern_end"
   ]
  },
  {
   "cell_type": "code",
   "execution_count": 22,
   "metadata": {
    "ExecuteTime": {
     "end_time": "2019-03-13T14:10:07.683895Z",
     "start_time": "2019-03-13T14:10:07.670926Z"
    }
   },
   "outputs": [
    {
     "name": "stdout",
     "output_type": "stream",
     "text": [
      "[['u0l0', 'u0l1', 'u0l2', 'u0l3', 'u0l4', 'u0l4'], ['u1l1', 'u1l2', 'u1l3', 'u1l3', 'u1l2', 'u1l1'], ['u2l0', 'u2l1', 'u2l2', 'u2l3', 'u2l4', 'u2l5'], ['u3l0', 'u3l1', 'u3l2', 'u3l3', 'u3l4', 'u3l4']]\n"
     ]
    }
   ],
   "source": [
    "def pad_pattern_end(data):\n",
    "    \"\"\"\n",
    "    Takes one 3-dimensional array.\n",
    "    Your task is to pad the instances from the end position as shown in the example below.\n",
    "    That is, you need to pad the reflection of the utterance mirrored along the edge of the array.\n",
    "    :return:\n",
    "    \"\"\"\n",
    "    result=[]\n",
    "    max_len = max([len(i) for i in data])\n",
    "    for i in data:\n",
    "        if len(i) < max_len:\n",
    "            i.extend(i[-1:(len(i)-max_len-1):-1])\n",
    "            result.append(i)\n",
    "        else:\n",
    "             result.append(i)   \n",
    "    return result\n",
    "    \n",
    "data = [\n",
    "        ['u0l0', 'u0l1', 'u0l2', 'u0l3', 'u0l4'],\n",
    "        ['u1l1', 'u1l2', 'u1l3'],\n",
    "        ['u2l0', 'u2l1', 'u2l2', 'u2l3', 'u2l4', 'u2l5'],\n",
    "        ['u3l0', 'u3l1', 'u3l2', 'u3l3', 'u3l4']\n",
    "    ]\n",
    "result = pad_pattern_end(data)\n",
    "print(result)"
   ]
  },
  {
   "cell_type": "markdown",
   "metadata": {},
   "source": [
    "### pad_constant_central"
   ]
  },
  {
   "cell_type": "code",
   "execution_count": 24,
   "metadata": {
    "ExecuteTime": {
     "end_time": "2019-03-13T14:13:28.229587Z",
     "start_time": "2019-03-13T14:13:28.219619Z"
    }
   },
   "outputs": [
    {
     "name": "stdout",
     "output_type": "stream",
     "text": [
      "[['u0l0', 'u0l1', 'u0l2', 'u0l3', 'u0l4', 'cval'], ['u1l1', 'u1l2', 'u1l3', 'cval', 'cval', 'cval'], ['u2l0', 'u2l1', 'u2l2', 'u2l3', 'u2l4', 'u2l5'], ['u3l0', 'u3l1', 'u3l2', 'u3l3', 'u3l4', 'cval']]\n"
     ]
    }
   ],
   "source": [
    "def pad_constant_central(data):\n",
    "    \"\"\"\n",
    "     Takes one 3-dimensional array with the constant value of padding.\n",
    "     Your task is to pad the instances with the given constant value while maintaining the array at the center of the padding.\n",
    "    :return:\n",
    "    \"\"\"\n",
    "    result=[]\n",
    "    max_len = max([len(i) for i in data])\n",
    "    for i in data:\n",
    "        if len(i) < max_len:\n",
    "            i.extend(['cval']*(max_len-len(i)))\n",
    "            result.append(i)\n",
    "        else:\n",
    "             result.append(i)   \n",
    "    return result\n",
    "    \n",
    "data = [\n",
    "        ['u0l0', 'u0l1', 'u0l2', 'u0l3', 'u0l4'],\n",
    "        ['u1l1', 'u1l2', 'u1l3'],\n",
    "        ['u2l0', 'u2l1', 'u2l2', 'u2l3', 'u2l4', 'u2l5'],\n",
    "        ['u3l0', 'u3l1', 'u3l2', 'u3l3', 'u3l4']\n",
    "    ]\n",
    "result = pad_constant_central(data)\n",
    "print(result)   \n"
   ]
  },
  {
   "cell_type": "markdown",
   "metadata": {},
   "source": [
    "## Numpy and PyTorch Conversion"
   ]
  },
  {
   "cell_type": "markdown",
   "metadata": {},
   "source": [
    "### def numpy2tensor"
   ]
  },
  {
   "cell_type": "code",
   "execution_count": 25,
   "metadata": {
    "ExecuteTime": {
     "end_time": "2019-03-13T16:11:37.251077Z",
     "start_time": "2019-03-13T16:11:37.243099Z"
    }
   },
   "outputs": [],
   "source": [
    "import torch\n",
    "import numpy as np\n",
    "def numpy2tensor(ndarray):\n",
    "    \"\"\"\n",
    "    Takes a numpy ndarray and converts it to a PyTorch tensor.\n",
    "    Function torch.tensor is one of the simple ways to implement it but please do not use it this time.\n",
    "    :return:\n",
    "    \"\"\"\n",
    "    return torch.from_numpy(ndarray)"
   ]
  },
  {
   "cell_type": "markdown",
   "metadata": {},
   "source": [
    "### tensor2numpy"
   ]
  },
  {
   "cell_type": "code",
   "execution_count": 26,
   "metadata": {
    "ExecuteTime": {
     "end_time": "2019-03-13T16:13:41.009434Z",
     "start_time": "2019-03-13T16:13:41.004452Z"
    }
   },
   "outputs": [],
   "source": [
    "def tensor2numpy(tensor):\n",
    "    \"\"\"\n",
    "    Takes a PyTorch tensor and converts it to a numpy ndarray.\n",
    "    :return:\n",
    "    \"\"\"\n",
    "    return tensor.numpy()"
   ]
  },
  {
   "cell_type": "markdown",
   "metadata": {},
   "source": [
    "### Tensor_Sumproducts"
   ]
  },
  {
   "cell_type": "code",
   "execution_count": 28,
   "metadata": {
    "ExecuteTime": {
     "end_time": "2019-03-13T16:25:06.207024Z",
     "start_time": "2019-03-13T16:25:06.202043Z"
    }
   },
   "outputs": [],
   "source": [
    "def Tensor_Sumproducts(tensor1, tensor2):\n",
    "    \"\"\"\n",
    "    you are to implement the function tensor sumproducts that takes two tensors as input.\n",
    "    returns the sum of the element-wise products of the two tensors.\n",
    "    :return:\n",
    "    \"\"\"\n",
    "    array1 = tensor2numpy(tensor1)\n",
    "    array2 = tensor2numpy(tensor2)\n",
    "    return np.sum(np.multiply(array1, array2))"
   ]
  },
  {
   "cell_type": "markdown",
   "metadata": {},
   "source": [
    "### Tensor_Relu"
   ]
  },
  {
   "cell_type": "code",
   "execution_count": 29,
   "metadata": {
    "ExecuteTime": {
     "end_time": "2019-03-13T16:29:05.697810Z",
     "start_time": "2019-03-13T16:29:05.691825Z"
    }
   },
   "outputs": [],
   "source": [
    "def Tensor_Relu(tensor):\n",
    "    \"\"\"\n",
    "    Takes one 2-dimensional tensor and apply the relu function on all the values of the tensor.\n",
    "    :return:\n",
    "    \"\"\"\n",
    "    array = tensor2numpy(tensor)\n",
    "    loc = numpy.where(array > 0, array, 0)\n",
    "    new_tensor = numpy2tensor(loc)\n",
    "    return new_tensor"
   ]
  },
  {
   "cell_type": "markdown",
   "metadata": {},
   "source": [
    "### Tensor_Relu_prime"
   ]
  },
  {
   "cell_type": "code",
   "execution_count": 30,
   "metadata": {
    "ExecuteTime": {
     "end_time": "2019-03-13T16:33:32.515135Z",
     "start_time": "2019-03-13T16:33:32.509152Z"
    }
   },
   "outputs": [],
   "source": [
    "def Tensor_Relu_prime(tensor):\n",
    "    \"\"\"\n",
    "    Takes one 2-dimensional tensor and apply the derivative of relu function on all the values of the tensor.\n",
    "    :return:\n",
    "    \"\"\"\n",
    "    array = tensor2numpy(tensor)\n",
    "    array = numpy.where(array < 0, 0, 1)\n",
    "    new_tensor = numpy2tensor(array)\n",
    "    return new_tensor"
   ]
  }
 ],
 "metadata": {
  "kernelspec": {
   "display_name": "Python 3",
   "language": "python",
   "name": "python3"
  },
  "language_info": {
   "codemirror_mode": {
    "name": "ipython",
    "version": 3
   },
   "file_extension": ".py",
   "mimetype": "text/x-python",
   "name": "python",
   "nbconvert_exporter": "python",
   "pygments_lexer": "ipython3",
   "version": "3.6.7"
  },
  "toc": {
   "base_numbering": 1,
   "nav_menu": {},
   "number_sections": true,
   "sideBar": true,
   "skip_h1_title": false,
   "title_cell": "Table of Contents",
   "title_sidebar": "Contents",
   "toc_cell": false,
   "toc_position": {
    "height": "calc(100% - 180px)",
    "left": "10px",
    "top": "150px",
    "width": "256px"
   },
   "toc_section_display": true,
   "toc_window_display": true
  },
  "varInspector": {
   "cols": {
    "lenName": 16,
    "lenType": 16,
    "lenVar": 40
   },
   "kernels_config": {
    "python": {
     "delete_cmd_postfix": "",
     "delete_cmd_prefix": "del ",
     "library": "var_list.py",
     "varRefreshCmd": "print(var_dic_list())"
    },
    "r": {
     "delete_cmd_postfix": ") ",
     "delete_cmd_prefix": "rm(",
     "library": "var_list.r",
     "varRefreshCmd": "cat(var_dic_list()) "
    }
   },
   "types_to_exclude": [
    "module",
    "function",
    "builtin_function_or_method",
    "instance",
    "_Feature"
   ],
   "window_display": false
  }
 },
 "nbformat": 4,
 "nbformat_minor": 2
}
